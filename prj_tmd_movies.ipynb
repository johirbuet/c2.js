{
 "cells": [
  {
   "cell_type": "markdown",
   "metadata": {},
   "source": [
    "# project TMDb movie data\n",
    "\n",
    "(cleaned from original data on Kaggle) "
   ]
  },
  {
   "cell_type": "markdown",
   "metadata": {},
   "source": [
    "## Overview and Notes\n",
    "\n",
    "### This data set contains information about 10,000 movies collected from The Movie Database (TMDb), including user ratings and revenue.\n",
    "\n",
    " Certain columns, like **cast** and **genres**, contain multiple values separated by pipe (|) characters.\n",
    "\n",
    "There are some odd characters in the **cast** column. Don’t worry about cleaning them. You can leave them as is.\n",
    "\n",
    "The final two columns ending with **ad** show the budget and revenue of the associated movie in terms of 2010 dollars, accounting for inflation over time.\n"
   ]
  },
  {
   "cell_type": "markdown",
   "metadata": {},
   "source": [
    "## question that may be asked on the data \n",
    "### trying to use the packages   (Pandas and NumPy)\n",
    "\n",
    "**Which genres are most popular from year to year? \n",
    "\n",
    "**What kinds of properties are associated with movies that have high revenues?**\n",
    "\n",
    "what movies that had been produced twice or more?\n",
    "\n",
    "to find the distribution asscociated with movies reveneu -max-min-average \n",
    "how many mobies are a bove the average "
   ]
  },
  {
   "cell_type": "markdown",
   "metadata": {},
   "source": [
    "# methodology and stages of my analysis \n",
    "### code cells order:\n",
    "cell 1 -aquising data and discrete it into arrays and store it into variable to make it easy to perform function on those varables \n",
    "\n",
    "cell 2-get the dataorganised and filter the redundent names + fix any \n",
    "cell 3 - get operation on revenues & budget like ( numpy {max min standard deviation and mean }\n",
    "cell 4 - markdown cell to display figures and histograms and explain if the film industries are wasting money or not\n",
    "cell 5 "
   ]
  },
  {
   "cell_type": "markdown",
   "metadata": {},
   "source": [
    "#####################################\n",
    "#                 1                 #\n",
    "#####################################\n",
    "import unicodecsv\n",
    "## Read in the data from tmdb-movies.csv \n",
    "## and store the results in the below variables.\n",
    "## Then look at the first row of each table.\n",
    "movies_data = 'C:/Users/islam/Desktop/NFkjh/dataprojects/mov/tmdb-movies.csv'\n",
    "\n",
    "\n",
    "with open(movies_data, 'rb') as f:\n",
    "    reader = unicodecsv.DictReader(f)\n",
    "    movies = list(reader)\n",
    "print (len(movies))\n",
    "#to check"
   ]
  },
  {
   "cell_type": "code",
   "execution_count": 25,
   "metadata": {},
   "outputs": [],
   "source": [
    "#preparing lists with required dimensions \n",
    "idds=indb_ids=popularits=budgetts=revens=org_titles=casts=homepages=directors=geners=[]\n",
    "for k in range(0,len(movies)-1):\n",
    "    budgetts.append(k)\n",
    "    revens.append(k)\n",
    "    geners.append(k)\n",
    "    popularits.append(k)\n",
    "    org_titles.append(k)\n",
    "    indb_ids.append(k)\n",
    "    idds.append(k)\n"
   ]
  },
  {
   "cell_type": "code",
   "execution_count": 43,
   "metadata": {},
   "outputs": [
    {
     "name": "stdout",
     "output_type": "stream",
     "text": [
      "150000000\n",
      "0 1513528810 \n",
      "\n",
      "\n",
      "150000000\n",
      "1 378436354 \n",
      "\n",
      "\n",
      "110000000\n",
      "2 295238201 \n",
      "\n",
      "\n",
      "200000000\n",
      "3 2068178225 \n",
      "\n",
      "\n",
      "190000000\n",
      "4 1506249360 \n",
      "\n",
      "\n"
     ]
    }
   ],
   "source": [
    "#discrete variables for iteration purposes\n",
    "row=0\n",
    "while row < len(movies)-1:\n",
    "    idds[row]= (movies[row]['id'])\n",
    "    indb_ids[row]=(movies[row]['imdb_id'])\n",
    "    org_titles[row]=(movies[row]['budget'])\n",
    "    popularits[row]=(movies[row]['popularity'])\n",
    "    budgetts[row]=(movies[row]['budget'])\n",
    "    revens[row]=(movies[row]['revenue'])\n",
    "    if row <5:\n",
    "        print (movies[row]['budget'])\n",
    "        print (row,budgetts[row],'\\n\\n')\n",
    "    row+=1"
   ]
  },
  {
   "cell_type": "markdown",
   "metadata": {},
   "source": [
    "### the following cell is used to display the data sets after aquisation"
   ]
  },
  {
   "cell_type": "code",
   "execution_count": 37,
   "metadata": {},
   "outputs": [
    {
     "name": "stdout",
     "output_type": "stream",
     "text": [
      "76055\n",
      "\n",
      "\n",
      "False\n",
      "14015\n",
      "\n",
      "\n",
      "\n",
      "False\n",
      "14015\n",
      "\n",
      "\n",
      "\n",
      "False\n",
      "14015\n",
      "1506249360\n"
     ]
    }
   ],
   "source": [
    "print (len(idds))\n",
    "#print (len(org_titles))\n",
    "#print (len(yy))\n",
    "#print ('\\n\\n\\n',movies[0],'\\n\\n')\n",
    "#print (idds[0])\n",
    "#check redundent points\n",
    "print ('\\n')\n",
    "print (len(set(idds))==len(idds))\n",
    "print (len(set(idds)))\n",
    "print ( '\\n\\n')\n",
    "print (len(set(org_titles))==len(org_titles))\n",
    "print (len(set(org_titles)))\n",
    "print ( '\\n\\n') \n",
    "print (len(set(popularits))==len(popularits))\n",
    "print(len(set(popularits)))\n",
    "#print (movies[0]['budget'],movies[1]['budget'],movies[2]['budget'],movies[3]['budget'])\n",
    "print (list(budgetts)[4] )"
   ]
  },
  {
   "cell_type": "markdown",
   "metadata": {},
   "source": [
    "### now we have the lists of data and the filtered rows from redundency by sets \n",
    "we are going to use the numpy to claculate some variables and indicators."
   ]
  },
  {
   "cell_type": "code",
   "execution_count": 1,
   "metadata": {},
   "outputs": [],
   "source": [
    "import numpy as np\n",
    "#print (budgetts)\n",
    "# Summarize the data about revenus on the movies\n",
    "#total_spents = budgetts.values()\n",
    "#print ('Mean:', np.mean(total_spents))\n",
    "#print ('Standard deviation:', np.std(total_spents))\n",
    "#print ('Minimum:', np.min(total_spents))\n",
    "#print ('Maximum:', np.max(total_spents))"
   ]
  },
  {
   "cell_type": "code",
   "execution_count": null,
   "metadata": {},
   "outputs": [],
   "source": [
    "#variable1=np.____()\n",
    "\n",
    "\n",
    "\n"
   ]
  },
  {
   "cell_type": "code",
   "execution_count": null,
   "metadata": {},
   "outputs": [],
   "source": [
    "import pandas as pd\n",
    "variable_m=pd.series()"
   ]
  },
  {
   "cell_type": "markdown",
   "metadata": {},
   "source": [
    "# plotting and correlation study"
   ]
  },
  {
   "cell_type": "code",
   "execution_count": null,
   "metadata": {},
   "outputs": [],
   "source": [
    "import matplotlib.pyplot as plt\n",
    "plt.hist(data)\n",
    "#If you're running plotting code locally, you may need to add the line plt.show() depending on your setup.\n",
    " \n"
   ]
  }
 ],
 "metadata": {
  "kernelspec": {
   "display_name": "Python 2",
   "language": "python",
   "name": "python2"
  },
  "language_info": {
   "codemirror_mode": {
    "name": "ipython",
    "version": 2
   },
   "file_extension": ".py",
   "mimetype": "text/x-python",
   "name": "python",
   "nbconvert_exporter": "python",
   "pygments_lexer": "ipython2",
   "version": "2.7.13"
  }
 },
 "nbformat": 4,
 "nbformat_minor": 2
}
